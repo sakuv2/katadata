{
 "cells": [
  {
   "cell_type": "markdown",
   "metadata": {},
   "source": [
    "## katadata.py\n",
    "***\n",
    "[class]  \n",
    "Kata:kataminoの問題のクラス  \n",
    "[variables]  \n",
    "name:{str} 問題のID  \n",
    "range:{list of int} 使用するミノの範囲  \n",
    "minos:{list of int} 使用するミノのリスト  \n",
    "***\n",
    "[class]  \n",
    "Katas：kataminoの問題リストを取り扱うクラス  \n",
    "[method]  \n",
    "append():Kataを追加する  \n",
    "load_all():インスタンスに全問題を読み込む  \n",
    ">return:{Katas}  \n",
    "\n",
    "find_len():現在の問題リストから指定したミノ数を使う問題だけを取り出す\n",
    ">arg:{int} 使うミノ数  \n",
    ">return:{Katas}\n",
    "\n",
    "find_minos():逆検索。指定したminosに一致する問題を探す\n",
    ">arg:{list of int} minos  \n",
    ">retrun:{Katas}\n",
    "\n",
    "find_rminos():補集合逆検索。指定したminosの補集合に一致する問題を探す\n",
    ">arg:{list of int} minos  \n",
    ">retrun:{Katas}\n",
    "\n",
    "find_name():名前に一致するKataを探す\n",
    ">arg:{str} 問題ID  \n",
    ">return:{Kata}\n",
    "\n",
    "***"
   ]
  },
  {
   "cell_type": "markdown",
   "metadata": {},
   "source": [
    "## 分割問題を探す"
   ]
  },
  {
   "cell_type": "code",
   "execution_count": 15,
   "metadata": {
    "collapsed": false
   },
   "outputs": [
    {
     "name": "stdout",
     "output_type": "stream",
     "text": [
      "ミノ数: 3\n",
      "一致する数: 0\n",
      "ミノ数: 4\n",
      "一致する数: 0\n",
      "ミノ数: 5\n",
      "一致する数: 0\n",
      "ミノ数: 6\n",
      "一致する数: 0\n"
     ]
    }
   ],
   "source": [
    "from katadata import Katas\n",
    "\n",
    "katas = Katas().load_all()\n",
    "for j in range(3, 7):\n",
    "    print(\"ミノ数: {}\".format(j))\n",
    "    a = katas.find_len(j)\n",
    "    num = 0\n",
    "    for kata in a:\n",
    "        b = katas.find_rminos(kata.minos)\n",
    "        if len(b) > 0: num += 1\n",
    "    print(\"一致する数: {}\".format(num))"
   ]
  },
  {
   "cell_type": "markdown",
   "metadata": {},
   "source": [
    "## 逆検索"
   ]
  },
  {
   "cell_type": "code",
   "execution_count": 16,
   "metadata": {
    "collapsed": false
   },
   "outputs": [
    {
     "name": "stdout",
     "output_type": "stream",
     "text": [
      "探すminos: [2, 3, 4, 5, 6, 7, 8, 9, 10, 11, 12]\n",
      "一致する数: 2\n",
      "9-D\n",
      "10-L\n"
     ]
    }
   ],
   "source": [
    "from katadata import Katas\n",
    "\n",
    "katas = Katas().load_all()\n",
    "minos = [2, 3, 4, 5, 6, 7, 8, 9, 10, 11, 12]\n",
    "print(\"探すminos:\", minos)\n",
    "a = katas.find_minos(minos)\n",
    "print(\"一致する数: {}\".format(len(a)))\n",
    "for i in a:\n",
    "    print(i.name)"
   ]
  }
 ],
 "metadata": {
  "kernelspec": {
   "display_name": "Python 3",
   "language": "python",
   "name": "python3"
  },
  "language_info": {
   "codemirror_mode": {
    "name": "ipython",
    "version": 3
   },
   "file_extension": ".py",
   "mimetype": "text/x-python",
   "name": "python",
   "nbconvert_exporter": "python",
   "pygments_lexer": "ipython3",
   "version": "3.6.0"
  }
 },
 "nbformat": 4,
 "nbformat_minor": 2
}
